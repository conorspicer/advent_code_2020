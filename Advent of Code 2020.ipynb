{
 "cells": [
  {
   "cell_type": "markdown",
   "metadata": {},
   "source": [
    "### Day 1"
   ]
  },
  {
   "cell_type": "code",
   "execution_count": 1,
   "metadata": {},
   "outputs": [],
   "source": [
    "from itertools import combinations\n",
    "import numpy as np"
   ]
  },
  {
   "cell_type": "code",
   "execution_count": 2,
   "metadata": {},
   "outputs": [],
   "source": [
    "with open('day1.txt') as f:\n",
    "    inputs = [int(x) for x in f.read().splitlines()]"
   ]
  },
  {
   "cell_type": "code",
   "execution_count": 3,
   "metadata": {},
   "outputs": [
    {
     "data": {
      "text/plain": [
       "910539"
      ]
     },
     "execution_count": 3,
     "metadata": {},
     "output_type": "execute_result"
    }
   ],
   "source": [
    "# part 1\n",
    "[np.prod(x) for x in combinations(inputs, 2) if sum(x) == 2020][0]"
   ]
  },
  {
   "cell_type": "code",
   "execution_count": 4,
   "metadata": {},
   "outputs": [
    {
     "data": {
      "text/plain": [
       "116724144"
      ]
     },
     "execution_count": 4,
     "metadata": {},
     "output_type": "execute_result"
    }
   ],
   "source": [
    "# part 2\n",
    "[np.prod(x) for x in combinations(inputs, 3) if sum(x) == 2020][0]"
   ]
  },
  {
   "cell_type": "markdown",
   "metadata": {},
   "source": [
    "### Day 2"
   ]
  },
  {
   "cell_type": "code",
   "execution_count": 5,
   "metadata": {},
   "outputs": [],
   "source": [
    "with open('day2.txt') as f:\n",
    "    lines = f.read().splitlines()\n",
    "    \n",
    "def clean_txt(text):\n",
    "    text = text.replace('-', ' ').replace(':', '')\n",
    "    return text.split(' ')\n",
    "\n",
    "data = [clean_txt(x) for x in lines]\n",
    "\n",
    "data = [{\n",
    "    '_min': int(x[0]),\n",
    "    '_max': int(x[1]),\n",
    "    'target':  x[2],\n",
    "    'example': x[3],\n",
    "} for x in data]"
   ]
  },
  {
   "cell_type": "code",
   "execution_count": 6,
   "metadata": {},
   "outputs": [
    {
     "data": {
      "text/plain": [
       "564"
      ]
     },
     "execution_count": 6,
     "metadata": {},
     "output_type": "execute_result"
    }
   ],
   "source": [
    "# part 1\n",
    "def validate(_min, _max, target, example):\n",
    "    return _min <= example.count(target) <= _max\n",
    "\n",
    "sum([validate(**x) for x in data])"
   ]
  },
  {
   "cell_type": "code",
   "execution_count": 7,
   "metadata": {},
   "outputs": [
    {
     "data": {
      "text/plain": [
       "325"
      ]
     },
     "execution_count": 7,
     "metadata": {},
     "output_type": "execute_result"
    }
   ],
   "source": [
    "# part 2\n",
    "def check_pos(_min, _max, target, example):\n",
    "    mn = example[_min-1] == target\n",
    "    mx = example[_max-1] == target\n",
    "    return mn != mx\n",
    "\n",
    "\n",
    "sum([check_pos(**x) for x in data])"
   ]
  },
  {
   "cell_type": "markdown",
   "metadata": {},
   "source": [
    "### Day 3"
   ]
  },
  {
   "cell_type": "code",
   "execution_count": 8,
   "metadata": {},
   "outputs": [
    {
     "data": {
      "text/plain": [
       "230"
      ]
     },
     "execution_count": 8,
     "metadata": {},
     "output_type": "execute_result"
    }
   ],
   "source": [
    "class Toboggan:\n",
    "    def __init__(self, x_step=3, y_step=1):\n",
    "        self.x_step = x_step\n",
    "        self.y_step = y_step\n",
    "        self.x = 0\n",
    "        self.y = 0\n",
    "        with open('day3.txt') as f:\n",
    "            self.arr = f.read().splitlines()\n",
    "        \n",
    "    def move(self):\n",
    "        self.x = (self.x + self.x_step) % len(self.arr[0])\n",
    "        self.y += self.y_step\n",
    "\n",
    "    def check_for_tree(self):\n",
    "        return int(self.arr[self.y][self.x] == '#')\n",
    "\n",
    "\n",
    "    \n",
    "def run_route(x_step, y_step):\n",
    "    tob = Toboggan(x_step, y_step)\n",
    "    tree_counter = tob.check_for_tree()\n",
    "\n",
    "    while tob.y < len(tob.arr) - 1:\n",
    "        tob.move()\n",
    "        tree_counter += tob.check_for_tree()\n",
    "\n",
    "    return tree_counter\n",
    "    \n",
    "\n",
    "run_route(3, 1)"
   ]
  },
  {
   "cell_type": "code",
   "execution_count": 9,
   "metadata": {},
   "outputs": [
    {
     "data": {
      "text/plain": [
       "9533698720"
      ]
     },
     "execution_count": 9,
     "metadata": {},
     "output_type": "execute_result"
    }
   ],
   "source": [
    "# part 2\n",
    "pairs = [\n",
    "    (1, 1),\n",
    "    (3, 1),\n",
    "    (5, 1),\n",
    "    (7, 1),\n",
    "    (1, 2),\n",
    "]\n",
    "\n",
    "np.prod([run_route(x, y) for x, y in pairs])"
   ]
  },
  {
   "cell_type": "markdown",
   "metadata": {},
   "source": [
    "###  Day 4"
   ]
  },
  {
   "cell_type": "code",
   "execution_count": 10,
   "metadata": {
    "scrolled": true
   },
   "outputs": [
    {
     "data": {
      "text/plain": [
       "170"
      ]
     },
     "execution_count": 10,
     "metadata": {},
     "output_type": "execute_result"
    }
   ],
   "source": [
    "with open('day4.txt') as f:\n",
    "    data = f.read().splitlines()\n",
    "    \n",
    "passports_raw = []\n",
    "item = []\n",
    "for line in data:\n",
    "    if line !=  '':\n",
    "        item += line.strip().split(' ')\n",
    "    else:\n",
    "        passports_raw.append(item)\n",
    "        item = []\n",
    "passports_raw.append(item) # and final item\n",
    "        \n",
    "passports = [{\n",
    "    itm.split(':')[0]:itm.split(':')[1] for itm in passport\n",
    "} for passport in passports_raw]\n",
    "\n",
    "required = {\n",
    "    'byr',\n",
    "    'iyr',\n",
    "    'eyr',\n",
    "    'hgt',\n",
    "    'hcl',\n",
    "    'ecl',\n",
    "    'pid',\n",
    "    # 'cid',\n",
    "}\n",
    "\n",
    "def check_keys(p):\n",
    "    return len(required.intersection(set(p.keys()))) == len(required)\n",
    "\n",
    "sum([check_keys(p) for p in passports])"
   ]
  },
  {
   "cell_type": "code",
   "execution_count": 11,
   "metadata": {},
   "outputs": [
    {
     "data": {
      "text/plain": [
       "103"
      ]
     },
     "execution_count": 11,
     "metadata": {},
     "output_type": "execute_result"
    }
   ],
   "source": [
    "# part 2\n",
    "import re\n",
    "\n",
    "def check_rules(p):\n",
    "    rules = {\n",
    "        'byr': lambda x: (1920 <= int(x) <= 2002) and (len(x) == 4),\n",
    "        'iyr': lambda x: (2010 <= int(x) <= 2020) and (len(x) == 4),\n",
    "        'eyr': lambda x: (2020 <= int(x) <= 2030) and (len(x) == 4),\n",
    "        'hgt': lambda x: (x[-2:] == 'cm' and 150 <= int(x[:-2]) <=193) \n",
    "                         or (x[-2:] == 'in' and 59 <= int(x[:-2]) <= 76),\n",
    "        'hcl': lambda x: re.search(r'^#(?:[0-9a-fA-F]{6})$', x) is not None,\n",
    "        'ecl': lambda x: x in ('amb', 'blu', 'brn', 'gry', 'grn', 'hzl', 'oth'),\n",
    "        'pid': lambda x: len(x) == 9 and x.isdigit(),\n",
    "    }\n",
    "    return all([rules[r](p[r]) for r in rules])\n",
    "\n",
    "sum([check_keys(p) and check_rules(p) for p in passports])"
   ]
  },
  {
   "cell_type": "markdown",
   "metadata": {},
   "source": [
    "### Day 5"
   ]
  },
  {
   "cell_type": "code",
   "execution_count": 12,
   "metadata": {},
   "outputs": [
    {
     "data": {
      "text/plain": [
       "953"
      ]
     },
     "execution_count": 12,
     "metadata": {},
     "output_type": "execute_result"
    }
   ],
   "source": [
    "with open('day5.txt') as f:\n",
    "    data = f.read().splitlines()\n",
    "\n",
    "def determine_seat(text):\n",
    "    \"\"\" Convert text to binary int and calc seat id \"\"\"\n",
    "    row = int(text[:7].replace('F', '0').replace('B', '1'), 2)\n",
    "    col = int(text[-3:].replace('L', '0').replace('R', '1'), 2)\n",
    "    seat_id = 8*row + col\n",
    "    \n",
    "    return seat_id\n",
    "\n",
    "max([determine_seat(x) for x in data])"
   ]
  },
  {
   "cell_type": "code",
   "execution_count": 13,
   "metadata": {},
   "outputs": [
    {
     "data": {
      "text/plain": [
       "[615]"
      ]
     },
     "execution_count": 13,
     "metadata": {},
     "output_type": "execute_result"
    }
   ],
   "source": [
    "all_seat_ids = range(0, 1024)\n",
    "seats_taken = [determine_seat(x) for x in data]\n",
    "\n",
    "[x for x in all_seat_ids if x not in seats_taken and x+1 in seats_taken and x-1 in seats_taken]"
   ]
  },
  {
   "cell_type": "markdown",
   "metadata": {},
   "source": [
    "### Day 6"
   ]
  },
  {
   "cell_type": "code",
   "execution_count": 14,
   "metadata": {},
   "outputs": [
    {
     "data": {
      "text/plain": [
       "7110"
      ]
     },
     "execution_count": 14,
     "metadata": {},
     "output_type": "execute_result"
    }
   ],
   "source": [
    "with open('day6.txt') as f:\n",
    "    lines = f.readlines()\n",
    "\n",
    "# part 1 - sum of unique questions answered per group\n",
    "sum([len(set(x.replace('\\n', ''))) for x in ''.join(lines).split('\\n\\n')])"
   ]
  },
  {
   "cell_type": "code",
   "execution_count": 15,
   "metadata": {},
   "outputs": [
    {
     "data": {
      "text/plain": [
       "3628"
      ]
     },
     "execution_count": 15,
     "metadata": {},
     "output_type": "execute_result"
    }
   ],
   "source": [
    "# part 2 - sum of count of questions answered by ALL in group\n",
    "answers = [x.split('\\n') for x in ''.join(lines).split('\\n\\n')]\n",
    "\n",
    "for a in range(len(answers)):\n",
    "    answers[a] = set.intersection(*[set(x) for x in answers[a]])\n",
    "\n",
    "sum([len(x) for x in answers])"
   ]
  },
  {
   "cell_type": "markdown",
   "metadata": {},
   "source": [
    "### Day 7"
   ]
  },
  {
   "cell_type": "code",
   "execution_count": 16,
   "metadata": {},
   "outputs": [],
   "source": [
    "import networkx as nx"
   ]
  },
  {
   "cell_type": "code",
   "execution_count": 17,
   "metadata": {
    "scrolled": true
   },
   "outputs": [],
   "source": [
    "with open('day7.txt') as f:\n",
    "    lines = f.read().splitlines()\n",
    "    \n",
    "def prep_line(text):\n",
    "    items = text.replace('.', '')\\\n",
    "                .replace('bags', '')\\\n",
    "                .replace('bag', '')\\\n",
    "                .replace('  ', ' ')\\\n",
    "                .split('contain')\n",
    "    \n",
    "    parent = items[0].strip()\n",
    "    children = [{\n",
    "        'colour': x.strip()[2:], \n",
    "        'count': int(x.strip()[0])\n",
    "    } for x in items[1].split(',')]\n",
    "    \n",
    "    return parent, children\n",
    "\n",
    "data = [prep_line(l) for l in lines if 'other' not in l]\n",
    "data = {d[0]: d[1] for d in data}\n",
    "\n",
    "connections = []\n",
    "for col in data.keys():\n",
    "    for itm in data[col]:\n",
    "        connections.append((col, itm['colour'], {'count': itm['count']}))"
   ]
  },
  {
   "cell_type": "code",
   "execution_count": 18,
   "metadata": {},
   "outputs": [],
   "source": [
    "G = nx.DiGraph()\n",
    "G.add_weighted_edges_from(connections)"
   ]
  },
  {
   "cell_type": "code",
   "execution_count": 19,
   "metadata": {},
   "outputs": [
    {
     "data": {
      "text/plain": [
       "142"
      ]
     },
     "execution_count": 19,
     "metadata": {},
     "output_type": "execute_result"
    }
   ],
   "source": [
    "# part 1 - how many unique bag types can contain 'shiny gold'\n",
    "len(set([x[0] for x in nx.edge_dfs(G,'shiny gold', orientation='reverse')]))"
   ]
  },
  {
   "cell_type": "code",
   "execution_count": 20,
   "metadata": {},
   "outputs": [
    {
     "data": {
      "text/plain": [
       "10219"
      ]
     },
     "execution_count": 20,
     "metadata": {},
     "output_type": "execute_result"
    }
   ],
   "source": [
    "# part 2 - how many individual bags are required inside your single shiny gold bag?\n",
    "def find_cost(G, node):\n",
    "    cost = 0\n",
    "    \n",
    "    if G.out_degree(node)==0:\n",
    "        return 0\n",
    "    else:\n",
    "        for x in G.successors(node):\n",
    "            mult = G[node][x]['weight']['count']\n",
    "            cost += mult + mult*find_cost(G, x)\n",
    "        return cost\n",
    "\n",
    "find_cost(G, 'shiny gold')"
   ]
  },
  {
   "cell_type": "markdown",
   "metadata": {},
   "source": [
    "### Day 8"
   ]
  },
  {
   "cell_type": "code",
   "execution_count": 41,
   "metadata": {
    "scrolled": false
   },
   "outputs": [
    {
     "data": {
      "text/plain": [
       "2034"
      ]
     },
     "execution_count": 41,
     "metadata": {},
     "output_type": "execute_result"
    }
   ],
   "source": [
    "class Program:\n",
    "    def __init__(self):\n",
    "        self.accumulator = 0\n",
    "        self.line = 0\n",
    "        \n",
    "        with open('day8.txt') as f:\n",
    "            self.commands = lines = [{\n",
    "                    'run': False, \n",
    "                    'instr': x.split(' ')[0], \n",
    "                    'value':  int(x.split(' ')[1])\n",
    "                } for x in f.read().splitlines()]\n",
    "        \n",
    "\n",
    "    def execute_commands(self):\n",
    "        while not self.commands[self.line]['run']:\n",
    "            if self.commands[self.line]['instr'] == 'nop':\n",
    "                self.commands[self.line]['run'] = True\n",
    "                self.line += 1\n",
    "                \n",
    "                \n",
    "            if self.commands[self.line]['instr'] == 'acc':\n",
    "                self.accumulator += self.commands[self.line]['value']\n",
    "                self.commands[self.line]['run'] = True\n",
    "                self.line += 1\n",
    "                \n",
    "            if self.commands[self.line]['instr'] == 'jmp':\n",
    "                self.commands[self.line]['run'] = True\n",
    "                self.line += self.commands[self.line]['value']\n",
    "            \n",
    "        return self.accumulator\n",
    "\n",
    "\n",
    "p = Program()\n",
    "p.execute_commands()"
   ]
  },
  {
   "cell_type": "code",
   "execution_count": 61,
   "metadata": {},
   "outputs": [
    {
     "name": "stdout",
     "output_type": "stream",
     "text": [
      "672 52\n"
     ]
    }
   ],
   "source": [
    "# part 2 - does changing one command make a finite program\n",
    "\n",
    "class Program:\n",
    "    def __init__(self, change):\n",
    "        self.accumulator = 0\n",
    "        self.line = 0\n",
    "        \n",
    "        with open('day8.txt') as f:\n",
    "            self.commands = lines = [{\n",
    "                    'run': False, \n",
    "                    'instr': x.split(' ')[0], \n",
    "                    'value':  int(x.split(' ')[1])\n",
    "                } for x in f.read().splitlines()]\n",
    "\n",
    "    def execute_commands(self):\n",
    "        counter = 0\n",
    "        check = self.commands[self.line]['run']\n",
    "        \n",
    "        while not check and self.line < len(self.commands):\n",
    "            if counter == self.change_rule_num:\n",
    "                mapper = {\n",
    "                    'nop': 'jmp',\n",
    "                    'jmp': 'nop',\n",
    "                    'acc': 'acc'\n",
    "                }\n",
    "                self.commands[self.line]['instr'] = mapper[self.commands[self.line]['instr']]\n",
    "            \n",
    "            if self.commands[self.line]['instr'] == 'nop':\n",
    "                self.commands[self.line]['run'] = True\n",
    "                self.line += 1\n",
    "                \n",
    "            elif self.commands[self.line]['instr'] == 'acc':\n",
    "                self.accumulator += self.commands[self.line]['value']\n",
    "                self.commands[self.line]['run'] = True\n",
    "                self.line += 1\n",
    "                \n",
    "            elif self.commands[self.line]['instr'] == 'jmp':\n",
    "                self.commands[self.line]['run'] = True\n",
    "                self.line += self.commands[self.line]['value']\n",
    "            \n",
    "            counter += 1\n",
    "            if self.line < len(self.commands):\n",
    "                check = self.commands[self.line]['run']\n",
    "            else:\n",
    "                break\n",
    "                \n",
    "        if self.line == len(self.commands):\n",
    "            return self.accumulator\n",
    "\n",
    "for r in range(10000s):\n",
    "    p = Program(r)\n",
    "\n",
    "    x = p.execute_commands()\n",
    "    \n",
    "    if x:\n",
    "        print(x, r)\n",
    "        break"
   ]
  },
  {
   "cell_type": "markdown",
   "metadata": {},
   "source": [
    "### Day 9"
   ]
  },
  {
   "cell_type": "code",
   "execution_count": 93,
   "metadata": {},
   "outputs": [
    {
     "name": "stdout",
     "output_type": "stream",
     "text": [
      "27911108\n",
      "509\n"
     ]
    }
   ],
   "source": [
    "from itertools import combinations\n",
    "\n",
    "\n",
    "class Stream:\n",
    "    def __init__(self, start):\n",
    "        self.idx = start\n",
    "        with open('day9.txt') as f:\n",
    "            self.data = [int(x) for x in f.read().splitlines()]\n",
    "        self.max = len(self.data)\n",
    "    \n",
    "    def check_currently_valid(self):\n",
    "        check = False\n",
    "\n",
    "        for a, b in combinations(self.data[self.idx-25:self.idx], 2):\n",
    "            if a + b == self.data[self.idx]:\n",
    "                check = True\n",
    "\n",
    "        return check\n",
    "\n",
    "\n",
    "s = Stream(25)\n",
    "while s.idx < s.max:\n",
    "    if s.check_currently_valid():\n",
    "        s.idx += 1\n",
    "    else:\n",
    "        print(s.data[s.idx])\n",
    "        break\n",
    "        \n",
    "print(s.idx)"
   ]
  },
  {
   "cell_type": "code",
   "execution_count": 99,
   "metadata": {},
   "outputs": [
    {
     "name": "stdout",
     "output_type": "stream",
     "text": [
      "396 18\n",
      "4023754\n"
     ]
    }
   ],
   "source": [
    "target = 27911108\n",
    "s = Stream(0)\n",
    "\n",
    "for idx in range(1000):\n",
    "    count_to_add = 0\n",
    "    sm = 0\n",
    "    \n",
    "    while sm < target:\n",
    "        sm = sum(s.data[s.idx: s.idx + count_to_add])\n",
    "        count_to_add += 1\n",
    "    if sm == target:\n",
    "        print(min(s.data[s.idx: s.idx + count_to_add]) + max(s.data[s.idx: s.idx + count_to_add]))\n",
    "        break\n",
    "    else:\n",
    "        s.idx += 1"
   ]
  },
  {
   "cell_type": "code",
   "execution_count": null,
   "metadata": {},
   "outputs": [],
   "source": []
  }
 ],
 "metadata": {
  "kernelspec": {
   "display_name": "Python (covid)",
   "language": "python",
   "name": "covid"
  },
  "language_info": {
   "codemirror_mode": {
    "name": "ipython",
    "version": 3
   },
   "file_extension": ".py",
   "mimetype": "text/x-python",
   "name": "python",
   "nbconvert_exporter": "python",
   "pygments_lexer": "ipython3",
   "version": "3.8.5"
  }
 },
 "nbformat": 4,
 "nbformat_minor": 4
}
